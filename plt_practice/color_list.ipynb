{
 "cells": [
  {
   "cell_type": "code",
   "execution_count": 7,
   "id": "cc258bac",
   "metadata": {},
   "outputs": [],
   "source": [
    "colors_string = \"Red,Orange.,Yellow.,Green.,Cyan.,Blue.,Magenta,Purple,White,Black,Gray,Grey,Silver,Pink,Maroon,Brown,Beige,Tan,Peach,Lime,Olive,Turquoise,Teal,Navy blue,Indigo,Violet\""
   ]
  },
  {
   "cell_type": "code",
   "execution_count": 8,
   "id": "b34978a0",
   "metadata": {},
   "outputs": [
    {
     "name": "stdout",
     "output_type": "stream",
     "text": [
      "Red,Orange.,Yellow.,Green.,Cyan.,Blue.,Magenta,Purple,White,Black,Gray,Grey,Silver,Pink,Maroon,Brown,Beige,Tan,Peach,Lime,Olive,Turquoise,Teal,Navy blue,Indigo,Violet\n"
     ]
    }
   ],
   "source": [
    "print(colors_string)"
   ]
  },
  {
   "cell_type": "code",
   "execution_count": 14,
   "id": "c62f910a",
   "metadata": {},
   "outputs": [
    {
     "name": "stdout",
     "output_type": "stream",
     "text": [
      "red,orange,yellow,green,cyan,blue,magenta,purple,white,black,gray,grey,silver,pink,maroon,brown,beige,tan,peach,lime,olive,turquoise,teal,navy blue,indigo,violet\n",
      "['red', 'orange', 'yellow', 'green', 'cyan', 'blue', 'magenta', 'purple', 'white', 'black', 'gray', 'grey', 'silver', 'pink', 'maroon', 'brown', 'beige', 'tan', 'peach', 'lime', 'olive', 'turquoise', 'teal', 'navy blue', 'indigo', 'violet']\n"
     ]
    }
   ],
   "source": [
    "colors_string = colors_string.replace('.','')\n",
    "colors_string = colors_string.lower()\n",
    "print(colors_string)\n",
    "color_list = colors_string.split(',')\n",
    "print(color_list)"
   ]
  }
 ],
 "metadata": {
  "kernelspec": {
   "display_name": "Python 3",
   "language": "python",
   "name": "python3"
  },
  "language_info": {
   "codemirror_mode": {
    "name": "ipython",
    "version": 3
   },
   "file_extension": ".py",
   "mimetype": "text/x-python",
   "name": "python",
   "nbconvert_exporter": "python",
   "pygments_lexer": "ipython3",
   "version": "3.8.8"
  }
 },
 "nbformat": 4,
 "nbformat_minor": 5
}
